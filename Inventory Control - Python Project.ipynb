{
 "cells": [
  {
   "cell_type": "markdown",
   "id": "61a0cde1",
   "metadata": {},
   "source": [
    "# Inventory Control"
   ]
  },
  {
   "cell_type": "markdown",
   "id": "a7f87f47",
   "metadata": {},
   "source": [
    "### Q, R Policy\n",
    "### A common inventory policy is the (Q, R) policy: you regularly check the aount of inventory level, I. If I < R, you order Q units, and do nothing otherwise.\n",
    "### Another common policy is the (s, S) policy. you regularly check the amount of inventory, I. If I < s, order always up to S (a fixed level). Do nothing, otherwise."
   ]
  },
  {
   "cell_type": "code",
   "execution_count": 6,
   "id": "aff5a4cf",
   "metadata": {},
   "outputs": [
    {
     "name": "stdout",
     "output_type": "stream",
     "text": [
      "Order quantity Q: 30\n",
      "Reorder point R: 10\n",
      "Initital inventory I: 20\n",
      "Inventory: 20\n",
      "Sales in a day: 2\n",
      "Inventory: 18\n",
      "continue? y\n",
      "Sales in a day: 7\n",
      "Inventory: 11\n",
      "continue? y\n",
      "Sales in a day: 3\n",
      "Inventory: 38\n",
      "continue? y\n",
      "Sales in a day: 30\n",
      "Inventory: 38\n",
      "continue? y\n",
      "Sales in a day: 35\n",
      "Inventory: 33\n",
      "continue? n\n",
      "You chose to quit. See you tomorrow.\n"
     ]
    }
   ],
   "source": [
    "Q = int(input(\"Order quantity Q: \"))\n",
    "R = int(input(\"Reorder point R: \"))\n",
    "I = int(input(\"Initital inventory I: \"))\n",
    "print(\"Inventory: \" + str(I))\n",
    "\n",
    "while True:\n",
    "    sales = int(input(\"Sales in a day: \"))\n",
    "    I = I - sales if I - sales >= 0 else 0\n",
    "    if I < R:\n",
    "        I += Q\n",
    "    print(\"Inventory: \" + str(I))\n",
    "    key = input(\"continue? \")\n",
    "    if not (key == 'y' or key == 'Y'):\n",
    "        break\n",
    "print('You chose to quit. See you tomorrow.')"
   ]
  },
  {
   "cell_type": "markdown",
   "id": "03c4054d",
   "metadata": {},
   "source": [
    "### Optimizing the (Q, R) Policy\n",
    "### How to decide Q and R?"
   ]
  },
  {
   "cell_type": "markdown",
   "id": "5967b6b2",
   "metadata": {},
   "source": [
    "How to decide order quantity, Q, and reorder point, R?  Tere are 3 revlevant costs:\n",
    "* Inventory cost: Cash generates investment returns or interet in a bank, but inventory doesn't.\n",
    "* Ordering cost: The fixed cost incurred for each order (e.g., shipping cost)\n",
    "* Shortage cost: The loss of sales and reputation upon shortage."
   ]
  },
  {
   "cell_type": "markdown",
   "id": "8e0abe6d",
   "metadata": {},
   "source": [
    "### Minimize the sum of inventory, ordering and shortage costs."
   ]
  },
  {
   "cell_type": "markdown",
   "id": "8ac31d4d",
   "metadata": {},
   "source": [
    "Suppose your boss asks you to optimize the Q, R policy:\n",
    "* Q has been set to 30 (maybe the supplier ships can only ship 30 units each time)\n",
    "* The unit purchasing cost is 1000 dollars and the annuual interest rate is 7.3% (if you buy inventory you will lose the interst of the amount used to buy the inventory)\n",
    "* The shipping cost per order is $200.\n",
    "* When out of sale, we give a discount of 2 dollars off per unit to cumstomers.\n",
    "* Daily demands for the past 20 days are given. 30 units were on hand 20 days ago. 14,23,26,17,17,12,24,19,10,18,22,31,19,16,22,28,20,27,20,32"
   ]
  },
  {
   "cell_type": "code",
   "execution_count": 3,
   "id": "2601d906",
   "metadata": {},
   "outputs": [
    {
     "name": "stdout",
     "output_type": "stream",
     "text": [
      "[14, 23, 26, 17, 17, 12, 24, 19, 10, 18, 22, 31, 19, 16, 22, 28, 20, 27, 20, 32]\n",
      "0 409.0\n",
      "1 425.0\n",
      "2 355.00000000000006\n",
      "3 338.99999999999994\n",
      "4 337.0\n",
      "5 309.0\n",
      "6 260.99999999999994\n",
      "7 230.99999999999997\n",
      "8 209.00000000000003\n",
      "9 233.00000000000003\n",
      "10 191.0\n",
      "11 181.0\n",
      "12 180.99999999999994\n",
      "13 157.00000000000006\n",
      "14 149.0\n",
      "15 169.00000000000003\n",
      "16 181.0\n",
      "17 168.99999999999997\n",
      "18 177.00000000000003\n",
      "19 171.00000000000003\n",
      "20 161.0\n",
      "21 151.0\n",
      "22 150.99999999999997\n",
      "23 155.00000000000006\n",
      "24 157.00000000000003\n",
      "25 161.00000000000003\n",
      "26 161.0\n",
      "27 160.99999999999997\n",
      "28 173.00000000000003\n",
      "29 179.00000000000003\n",
      "14\n"
     ]
    }
   ],
   "source": [
    "# Suppose that we check the inventory daily at the end of the day. If reorder is done at the end of the day, the products\n",
    "#  are delivered by the start of the next day.\n",
    "# Handling the past sales (demands)\n",
    "salesStr = \"14,23,26,17,17,12,24,19,10,18,22,31,19,16,22,28,20,27,20,32\"\n",
    "sales = salesStr.split(\",\")\n",
    "for i in range(len(sales)):\n",
    "    sales[i] = int(sales[i])\n",
    "print(sales)\n",
    "\n",
    "# given information\n",
    "shtgCost = 2\n",
    "invCost = 1000 * 0.073/365\n",
    "Q = 30\n",
    "I = 20\n",
    "\n",
    "# finding the best R\n",
    "bestR = 0  # This is the value we are targeting. We set up this variable first and assign 0 to this variable.\n",
    "           # In this case, it doesn't matter whehter or not it is set up first.\n",
    "           # But, it is a good practice that you set up a variable first and give it an initial value when you know that\n",
    "           #   you will update this variable again and again in your loop.\n",
    "costOfBestR = 10 ** 8\n",
    "for R in range(Q): # 0,1,2,...,Q-1 Q is not included, but it's OK since Q is impossible to be the best R.\n",
    "    totalCost = 0\n",
    "    \n",
    "    # find the totatl cost of this R\n",
    "    for s in sales:\n",
    "        I = I - s  # I -= s\n",
    "        if I < 0:\n",
    "            totalCost += -I * shtgCost\n",
    "            I += Q  # We suppose when I < 0, you reroder Q and adding Q can make your I be positive (Q always greater than demand of any day)\n",
    "        elif I < R:\n",
    "            # this elif can be tested only when I >= 0\n",
    "            # when I < 0, the if statement above is executed and this elif statement is skipped.\n",
    "            I += Q\n",
    "        totalCost += I * invCost\n",
    "    \n",
    "    # update bestR when necesssary\n",
    "    if totalCost < costOfBestR:\n",
    "        bestR = R\n",
    "        costOfBestR = totalCost\n",
    "    \n",
    "    print(R, totalCost)\n",
    "\n",
    "print(bestR)"
   ]
  },
  {
   "cell_type": "code",
   "execution_count": 7,
   "id": "f457c5ce",
   "metadata": {},
   "outputs": [
    {
     "name": "stdout",
     "output_type": "stream",
     "text": [
      "[14, 23, 26, 17, 17, 12, 24, 19, 10, 18, 22, 31, 19, 16, 22, 28, 20, 27, 20, 32]\n",
      "0 356 53.0 409.0\n",
      "1 372 53.00000000000001 425.0\n",
      "2 290 65.00000000000001 355.0\n",
      "3 274 65.00000000000001 339.0\n",
      "4 266 71.0 337.0\n",
      "5 232 77.0 309.0\n",
      "6 178 83.00000000000001 261.0\n",
      "7 142 89.0 231.0\n",
      "8 114 95.00000000000001 209.0\n",
      "9 144 89.00000000000001 233.0\n",
      "10 90 101.00000000000001 191.0\n",
      "11 80 101.0 181.0\n",
      "12 80 101.0 181.0\n",
      "13 44 113.00000000000001 157.0\n",
      "14 30 119.0 149.0\n",
      "15 56 113.00000000000001 169.0\n",
      "16 68 113.0 181.0\n",
      "17 44 124.99999999999999 169.0\n",
      "18 52 125.00000000000003 177.00000000000003\n",
      "19 40 131.0 171.0\n",
      "20 24 137.00000000000003 161.00000000000003\n",
      "21 8 143.0 151.0\n",
      "22 2 148.99999999999997 150.99999999999997\n",
      "23 0 155.00000000000006 155.00000000000006\n",
      "24 8 149.00000000000003 157.00000000000003\n",
      "25 0 161.00000000000003 161.00000000000003\n",
      "26 0 161.0 161.0\n",
      "27 0 160.99999999999997 160.99999999999997\n",
      "28 0 173.00000000000003 173.00000000000003\n",
      "29 0 179.00000000000003 179.00000000000003\n",
      "14\n"
     ]
    }
   ],
   "source": [
    "salesStr = \"14,23,26,17,17,12,24,19,10,18,22,31,19,16,22,28,20,27,20,32\"\n",
    "sales = salesStr.split(\",\")\n",
    "for i in range(len(sales)):\n",
    "    sales[i] = int(sales[i])\n",
    "print(sales)\n",
    "\n",
    "shtgCost = 2\n",
    "invCost = 1000 * 0.073/365\n",
    "Q = 30\n",
    "I = 20\n",
    "\n",
    "bestR = 0 \n",
    "costOfBestR = 10 ** 8\n",
    "for R in range(Q):\n",
    "    totalShtgCost = 0\n",
    "    totalInvCost = 0\n",
    "    \n",
    "    for s in sales:\n",
    "        I = I - s  # I -= s\n",
    "        if I < 0:\n",
    "            totalShtgCost += -I * shtgCost\n",
    "            I += Q  \n",
    "        elif I < R:\n",
    "            I += Q\n",
    "        totalInvCost += I * invCost\n",
    "    \n",
    "    totalCost = totalShtgCost + totalInvCost\n",
    "    if totalCost < costOfBestR:\n",
    "        bestR = R\n",
    "        costOfBestR = totalCost\n",
    "    \n",
    "    print(R, totalShtgCost, totalInvCost, totalCost)\n",
    "\n",
    "print(bestR)"
   ]
  },
  {
   "cell_type": "code",
   "execution_count": null,
   "id": "807fc009",
   "metadata": {},
   "outputs": [],
   "source": []
  }
 ],
 "metadata": {
  "kernelspec": {
   "display_name": "Python 3 (ipykernel)",
   "language": "python",
   "name": "python3"
  },
  "language_info": {
   "codemirror_mode": {
    "name": "ipython",
    "version": 3
   },
   "file_extension": ".py",
   "mimetype": "text/x-python",
   "name": "python",
   "nbconvert_exporter": "python",
   "pygments_lexer": "ipython3",
   "version": "3.9.7"
  }
 },
 "nbformat": 4,
 "nbformat_minor": 5
}
