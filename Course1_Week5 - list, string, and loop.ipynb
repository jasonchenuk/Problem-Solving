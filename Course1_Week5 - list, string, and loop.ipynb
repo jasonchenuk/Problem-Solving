{
 "cells": [
  {
   "cell_type": "markdown",
   "id": "d0eb7102",
   "metadata": {},
   "source": [
    "## List and (a litte) Strings"
   ]
  },
  {
   "cell_type": "markdown",
   "id": "eb6f9dd5",
   "metadata": {},
   "source": [
    "## Input Data"
   ]
  },
  {
   "cell_type": "markdown",
   "id": "409ea804",
   "metadata": {},
   "source": [
    "To read in a line of data, simply invoke input()\n",
    "* gradeStr = input(); print(gradeStr)\n",
    "* We want to input 5 numbers, but gradeStr(=input()) is a string, not 5 numbers.\n",
    "* We need to 1) Splitting the string into 5 substrings, 2) Convert the 5 substrings into 5 numbers, 3) Put the 5 numbers in a list."
   ]
  },
  {
   "cell_type": "code",
   "execution_count": 9,
   "id": "dd9ddf79",
   "metadata": {},
   "outputs": [
    {
     "name": "stdout",
     "output_type": "stream",
     "text": [
      "['J', 'a', 's', 'o', 'n']\n"
     ]
    }
   ],
   "source": [
    "print((a :='J a s o n').split()) # For .split() the default delimiter is a whitespace."
   ]
  },
  {
   "cell_type": "code",
   "execution_count": 10,
   "id": "c4bae4c5",
   "metadata": {},
   "outputs": [
    {
     "data": {
      "text/plain": [
       "['Jason', 'and', 'Kuan', 'are', 'father', 'and', 'son.']"
      ]
     },
     "execution_count": 10,
     "metadata": {},
     "output_type": "execute_result"
    }
   ],
   "source": [
    "(a := 'Jason and Kuan are father and son.').split()"
   ]
  },
  {
   "cell_type": "code",
   "execution_count": 4,
   "id": "30e63b5b",
   "metadata": {},
   "outputs": [
    {
     "name": "stdout",
     "output_type": "stream",
     "text": [
      "['Jason']\n"
     ]
    }
   ],
   "source": [
    "a = \"Jason\" # If your string doesn't have any space to be a delimiter, you can't split the string.\n",
    "print(a.split())"
   ]
  },
  {
   "cell_type": "code",
   "execution_count": 18,
   "id": "781f7380",
   "metadata": {},
   "outputs": [
    {
     "name": "stdout",
     "output_type": "stream",
     "text": [
      "['1', '2', '3', '4', '5']\n"
     ]
    }
   ],
   "source": [
    "a = '1, 2, 3, 4, 5'\n",
    "print(a.split(', '))"
   ]
  },
  {
   "cell_type": "code",
   "execution_count": 17,
   "id": "e94f97c9",
   "metadata": {},
   "outputs": [
    {
     "name": "stdout",
     "output_type": "stream",
     "text": [
      "['1 2 3 4 5']\n"
     ]
    }
   ],
   "source": [
    "a = '1 2 3 4 5'\n",
    "print(a.split(', '))\n"
   ]
  },
  {
   "cell_type": "code",
   "execution_count": 19,
   "id": "8775169c",
   "metadata": {},
   "outputs": [
    {
     "name": "stdout",
     "output_type": "stream",
     "text": [
      "82 9898\n"
     ]
    }
   ],
   "source": [
    "gradStr = '82 77 98 100 65'\n",
    "grades = gradStr.split()\n",
    "print(grades[0], grades[2]*2)"
   ]
  },
  {
   "cell_type": "code",
   "execution_count": 22,
   "id": "e65b5889",
   "metadata": {},
   "outputs": [
    {
     "name": "stdout",
     "output_type": "stream",
     "text": [
      "1897841397568\n",
      "0\n"
     ]
    }
   ],
   "source": [
    "aList = []\n",
    "print(id(aList))\n",
    "print(len(aList))      "
   ]
  },
  {
   "cell_type": "code",
   "execution_count": 24,
   "id": "8f03e2a3",
   "metadata": {},
   "outputs": [
    {
     "data": {
      "text/plain": [
       "[3, 3, 3, 3, 3, 3, 3, 3, 3, 3]"
      ]
     },
     "execution_count": 24,
     "metadata": {},
     "output_type": "execute_result"
    }
   ],
   "source": [
    "aList = [3]*10\n",
    "aList"
   ]
  },
  {
   "cell_type": "code",
   "execution_count": 26,
   "id": "b1def4ee",
   "metadata": {},
   "outputs": [
    {
     "name": "stdout",
     "output_type": "stream",
     "text": [
      "82 77 98 100 65\n",
      "['82', '77', '98', '100', '65', 76]\n"
     ]
    }
   ],
   "source": [
    "gradeStr = input()\n",
    "grades = gradeStr.split()\n",
    "grades.append(76)\n",
    "print(grades)"
   ]
  },
  {
   "cell_type": "markdown",
   "id": "2885a4af",
   "metadata": {},
   "source": [
    "## Convert all the items in a list into a different data type"
   ]
  },
  {
   "cell_type": "code",
   "execution_count": 32,
   "id": "5dc813e2",
   "metadata": {},
   "outputs": [
    {
     "name": "stdout",
     "output_type": "stream",
     "text": [
      "82 77 98 100 65\n",
      "['82', '77', '98', '100', '65', 76]\n",
      "['82', '77', '98', '100', '65', 76]\n"
     ]
    }
   ],
   "source": [
    "# Convert all the items in the list into integers\n",
    "gradeStr = input()\n",
    "grades = gradeStr.split()\n",
    "grades.append(76)\n",
    "print(grades)\n",
    "\n",
    "gradesInt = [int(i) for i in grades]\n",
    "print(grades)"
   ]
  },
  {
   "cell_type": "code",
   "execution_count": 29,
   "id": "0fbe5cb8",
   "metadata": {},
   "outputs": [
    {
     "name": "stdout",
     "output_type": "stream",
     "text": [
      "[1, 2, 3, [3, 5, 6]]\n",
      "14\n"
     ]
    }
   ],
   "source": [
    "a = [1, 2, 3]\n",
    "a.append([3, 5, 6])\n",
    "print(a)\n",
    "print(a[3][0] + a[3][1] + a[3][2])"
   ]
  },
  {
   "cell_type": "markdown",
   "id": "3dc7b258",
   "metadata": {},
   "source": [
    "## Traversing a list in a loop"
   ]
  },
  {
   "cell_type": "code",
   "execution_count": 37,
   "id": "8039850e",
   "metadata": {},
   "outputs": [
    {
     "name": "stdout",
     "output_type": "stream",
     "text": [
      "1 2 3 4 5\n",
      "['1', '2', '3', '4', '5']\n",
      "[1]\n",
      "[2]\n",
      "[3]\n",
      "[4]\n",
      "[5]\n"
     ]
    },
    {
     "data": {
      "text/plain": [
       "[5]"
      ]
     },
     "execution_count": 37,
     "metadata": {},
     "output_type": "execute_result"
    }
   ],
   "source": [
    "gradeStr = input()\n",
    "gradeList = gradeStr.split()\n",
    "print(gradeList)\n",
    "\n",
    "for g in gradeList:\n",
    "    (gradeInt := []).append(int(g)) # This doesn't work because in each iteration you reassign [] to gradeInt\n",
    "    print(gradeInt)\n",
    "\n",
    "gradeInt"
   ]
  },
  {
   "cell_type": "code",
   "execution_count": 36,
   "id": "9c502821",
   "metadata": {},
   "outputs": [
    {
     "name": "stdout",
     "output_type": "stream",
     "text": [
      "82 77 98 100 65 76\n",
      "['82', '77', '98', '100', '65', '76']\n"
     ]
    },
    {
     "data": {
      "text/plain": [
       "[82, 77, 98, 100, 65, 76]"
      ]
     },
     "execution_count": 36,
     "metadata": {},
     "output_type": "execute_result"
    }
   ],
   "source": [
    "gradeStr = input()\n",
    "gradeList = gradeStr.split()\n",
    "print(gradeList)\n",
    "\n",
    "gradeInt = []\n",
    "for g in gradeList:\n",
    "    gradeInt.append(int(g))\n",
    "\n",
    "gradeInt"
   ]
  },
  {
   "cell_type": "code",
   "execution_count": 1,
   "id": "cbe88d2b",
   "metadata": {},
   "outputs": [
    {
     "name": "stdout",
     "output_type": "stream",
     "text": [
      "['82', '77', '98', '100', '65', '76']\n",
      "[90.2, 84.7, 107.80000000000001, 110.00000000000001, 71.5, 83.60000000000001]\n"
     ]
    }
   ],
   "source": [
    "# Another way of doing a similar task as above.\n",
    "gradeStr = '82 77 98 100 65 76'\n",
    "gradeList = gradeStr.split()\n",
    "print(gradeList)\n",
    "\n",
    "gradeInt = []\n",
    "for i in range(len(gradeList)):\n",
    "    gradeInt.append(int(gradeList[i])*1.1)\n",
    "\n",
    "print(gradeInt)"
   ]
  },
  {
   "cell_type": "markdown",
   "id": "445a4f30",
   "metadata": {},
   "source": [
    "### The item(s) in a list can be modified"
   ]
  },
  {
   "cell_type": "code",
   "execution_count": 2,
   "id": "bda6f704",
   "metadata": {},
   "outputs": [
    {
     "name": "stdout",
     "output_type": "stream",
     "text": [
      "['82', '77', '98', '100', '65', '76']\n",
      "[90.2, 84.7, 107.80000000000001, 110.00000000000001, 71.5, 83.60000000000001]\n"
     ]
    }
   ],
   "source": [
    "gradeStr = '82 77 98 100 65 76'\n",
    "gradeList = gradeStr.split()\n",
    "print(gradeList)\n",
    "\n",
    "for i in range(len(gradeList)):\n",
    "    gradeList[i] = int(gradeList[i])*1.1\n",
    "\n",
    "print(gradeList)"
   ]
  },
  {
   "cell_type": "code",
   "execution_count": 4,
   "id": "53b22307",
   "metadata": {},
   "outputs": [
    {
     "name": "stdout",
     "output_type": "stream",
     "text": [
      "['82', '77', '98', '100', '65', '76']\n",
      "gradeInt is [90.2, 84.7, 107.80000000000001, 110.00000000000001, 71.5, 83.60000000000001]\n"
     ]
    }
   ],
   "source": [
    "# This code is even better since something to do in the for loop is simple.\n",
    "gradeStr = '82 77 98 100 65 76'\n",
    "gradeList = gradeStr.split()\n",
    "print(gradeList)\n",
    "\n",
    "gradeInt = [int(i)*1.1 for i in gradeList]\n",
    "\n",
    "print('gradeInt is', gradeInt)"
   ]
  },
  {
   "cell_type": "code",
   "execution_count": 7,
   "id": "579dc3c4",
   "metadata": {},
   "outputs": [
    {
     "name": "stdout",
     "output_type": "stream",
     "text": [
      "['82', '77', '98', '100', '65', '76']\n",
      "gradeList becomes [90.2, 84.7, 107.80000000000001, 110.00000000000001, 71.5, 83.60000000000001]\n"
     ]
    }
   ],
   "source": [
    "# You can reassign totally new content to an existing list.\n",
    "gradeStr = '82 77 98 100 65 76'\n",
    "gradeList = gradeStr.split()\n",
    "print(gradeList)\n",
    "\n",
    "gradeList = [int(i)*1.1 for i in gradeList]\n",
    "\n",
    "print('gradeList becomes', gradeList)"
   ]
  },
  {
   "cell_type": "markdown",
   "id": "971a41df",
   "metadata": {},
   "source": [
    "### tic-tac-toe"
   ]
  },
  {
   "cell_type": "code",
   "execution_count": 13,
   "id": "5a0b9ceb",
   "metadata": {},
   "outputs": [
    {
     "name": "stdout",
     "output_type": "stream",
     "text": [
      "winner: 1\n"
     ]
    }
   ],
   "source": [
    "game = [[1, 0, 1], [1, 1, 1], [0, 0, 1]]\n",
    "\n",
    "for i in range(3):\n",
    "    if game[i][0] == game[i][1] and game[i][1] == game[i][2]:\n",
    "        print(\"winner:\", game[i][0])\n",
    "        break\n",
    "        \n",
    "# then check for columns and diagonals"
   ]
  },
  {
   "cell_type": "code",
   "execution_count": 12,
   "id": "f95029e6",
   "metadata": {},
   "outputs": [
    {
     "name": "stdout",
     "output_type": "stream",
     "text": [
      "False\n",
      "True\n"
     ]
    }
   ],
   "source": [
    "a = 1\n",
    "b = 1\n",
    "c = 2\n",
    "print(a == b == c)\n",
    "print(a == b < c)"
   ]
  },
  {
   "cell_type": "code",
   "execution_count": 14,
   "id": "2cafb6dd",
   "metadata": {},
   "outputs": [
    {
     "name": "stdout",
     "output_type": "stream",
     "text": [
      "winner: 1\n"
     ]
    }
   ],
   "source": [
    "game = [[1, 0, 1], [1, 1, 1], [0, 0, 1]]\n",
    "\n",
    "for i in range(3):\n",
    "    if game[i][0] == game[i][1] == game[i][2]:\n",
    "        print(\"winner:\", game[i][0])\n",
    "        break\n",
    "        \n",
    "# then check for columns and diagonals"
   ]
  },
  {
   "cell_type": "markdown",
   "id": "b3afcfcf",
   "metadata": {},
   "source": [
    "## List Copying and References"
   ]
  },
  {
   "cell_type": "code",
   "execution_count": 16,
   "id": "f47a4d0a",
   "metadata": {},
   "outputs": [
    {
     "name": "stdout",
     "output_type": "stream",
     "text": [
      "2446944087680\n",
      "\n",
      "2446944087680\n",
      "2446944087680\n",
      "\n",
      "[5, 2, 3]\n"
     ]
    }
   ],
   "source": [
    "# a_list and b_list are not actually 2 different lists; they are two different names of one single list.\n",
    "a_list = [1, 2, 3]\n",
    "print(id(a_list))\n",
    "print()\n",
    "\n",
    "another_list = a_list # Asssigning a list to another list is just copying the reference, not those values.\n",
    "\n",
    "another_list[0] = 5\n",
    "print(id(another_list))\n",
    "print(id(a_list))\n",
    "\n",
    "print()\n",
    "print(a_list)"
   ]
  },
  {
   "cell_type": "code",
   "execution_count": 22,
   "id": "73a8858c",
   "metadata": {},
   "outputs": [
    {
     "name": "stdout",
     "output_type": "stream",
     "text": [
      "2446944092992\n",
      "2446944084224\n"
     ]
    }
   ],
   "source": [
    "a_list = [1, 2, 3]\n",
    "b_list = [1, 2, 3]\n",
    "\n",
    "print(id(a_list))\n",
    "print(id(b_list))"
   ]
  },
  {
   "cell_type": "code",
   "execution_count": 24,
   "id": "fe7a1be7",
   "metadata": {},
   "outputs": [
    {
     "name": "stdout",
     "output_type": "stream",
     "text": [
      "2446944098368\n",
      "\n",
      "[4, 5, 6]\n",
      "\n",
      "2446944099008\n",
      "2446944098368\n"
     ]
    }
   ],
   "source": [
    "# If you have many many items in a list, you can use a loop to create a \"copy\" of a list, which has a different memory id.\n",
    "alist = [4, 5, 6]\n",
    "blist = []\n",
    "print(id(blist))\n",
    "print()\n",
    "\n",
    "for item in alist:\n",
    "    blist.append(item)\n",
    "\n",
    "print(blist)\n",
    "print()\n",
    "print(id(alist))\n",
    "print(id(blist))"
   ]
  },
  {
   "cell_type": "markdown",
   "id": "cc307e95",
   "metadata": {},
   "source": [
    "## Problem Solving - just for practice, when you review your notes, no need to look at this."
   ]
  },
  {
   "cell_type": "code",
   "execution_count": 25,
   "id": "71c61e7e",
   "metadata": {},
   "outputs": [],
   "source": [
    "# There are m colleagues on your team.\n",
    "# There are n projects to be processed.\n",
    "# Project j needs working time, Pj, to be finished.\n",
    "#   - For a team member to complete project j, he/she needs to spend Pj amount of time\n",
    "#   - We say project j is completed at tis completion time Cj if Cj = Sj + Pj, where Sj is its starting time\n",
    "#\n",
    "# A typical scheduling problem is to schedule these projects to team members to minimize the \"makespan\", i.e,\n",
    "#   the latest completion time among all projects.\n",
    "\n",
    "# Now, we have 10 projects whose required working time are 3, 3, 3, 4, 4, 5, 5, 6, 7, 8 days, respectively.\n",
    "# You have 3 team members\n",
    "\n",
    "# Suppose the ability of all team members are same.\n",
    "\n",
    "# Makespan minimization is actuallly 'load balancing.'\n",
    "#  - To failry allocate jobs.\n",
    "#  - To finish all the projects as early as possible.\n",
    "\n",
    "# Several heuristic algorithms have been deveoped. They are tipically easy to implement, and time-efficient. \n",
    "# They are typically near optimal (not too bad)."
   ]
  },
  {
   "cell_type": "markdown",
   "id": "57ab678b",
   "metadata": {},
   "source": [
    "### Longest Processing Time First (LPT) Rule"
   ]
  },
  {
   "cell_type": "code",
   "execution_count": 26,
   "id": "2545f9d4",
   "metadata": {},
   "outputs": [],
   "source": [
    "# One well-know algorithm for makespan minimization is the longest proceessing time first (LPT) rule.\n",
    "#  - First, sort project in the decsending order of their required working times.\n",
    "#  - Then in each iteration schedule a project to the team member that is currently \n",
    "#  - the least loaded (haveing the earliest comopletion time)."
   ]
  },
  {
   "cell_type": "code",
   "execution_count": 37,
   "id": "1e4c9f12",
   "metadata": {},
   "outputs": [
    {
     "name": "stdout",
     "output_type": "stream",
     "text": [
      "[8, 7, 6, 5, 5, 4, 4, 3, 3, 3]\n",
      "18\n",
      "15\n",
      "15\n"
     ]
    }
   ],
   "source": [
    "wtime = [3, 3, 3, 4, 4, 5, 5, 6, 7, 8]\n",
    "\n",
    "wtime.sort(reverse = True) # .sort() the default is ascending\n",
    "print(wtime)\n",
    "\n",
    "p1 = 0\n",
    "p2 = 0\n",
    "p3 = 0\n",
    "for time in wtime:\n",
    "    if min(p1, p2, p3) == p1:\n",
    "        p1 += time\n",
    "    elif min(p1, p2, p3) == p2:\n",
    "        p2 += time\n",
    "    else:\n",
    "        p3 += time\n",
    "\n",
    "print(p1)\n",
    "print(p2)\n",
    "print(p3)    "
   ]
  },
  {
   "cell_type": "code",
   "execution_count": 52,
   "id": "371d2bff",
   "metadata": {},
   "outputs": [
    {
     "name": "stdout",
     "output_type": "stream",
     "text": [
      "number of jobs/projects: 10\n",
      "number of machines/team members: 3\n",
      "Processing time: 3 3 3 4 4 5 5 6 7 8\n",
      "3 : [3, 0, 0]\n",
      "3 : [3, 0, 0]\n",
      "3 : [3, 3, 0]\n",
      "3 : [3, 3, 0]\n",
      "3 : [3, 3, 3]\n",
      "3 : [3, 3, 3]\n",
      "4 : [7, 3, 3]\n",
      "4 : [7, 3, 3]\n",
      "4 : [7, 7, 3]\n",
      "4 : [7, 7, 3]\n",
      "5 : [7, 7, 8]\n",
      "5 : [7, 7, 8]\n",
      "5 : [12, 7, 8]\n",
      "5 : [12, 7, 8]\n",
      "6 : [12, 13, 8]\n",
      "6 : [12, 13, 8]\n",
      "7 : [12, 13, 15]\n",
      "7 : [12, 13, 15]\n",
      "8 : [20, 13, 15]\n",
      "8 : [20, 13, 15]\n",
      "[0, 1, 2, 0, 1, 2, 0, 1, 2, 0]\n",
      "[20, 13, 15]\n"
     ]
    }
   ],
   "source": [
    "# read and prepare n, m, and p\n",
    "n = int(input(\"number of jobs/projects: \"))\n",
    "m = int(input(\"number of machines/team members: \"))\n",
    "pStr = input(\"Processing time: \")\n",
    "\n",
    "p = pStr.split()\n",
    "for i in range(n):\n",
    "    p[i] = int(p[i])\n",
    "\n",
    "# machine completion times\n",
    "loads = [0] * m\n",
    "assignment = [0] * n\n",
    "count = 0\n",
    "for j in p:\n",
    "    minimum = min(loads)\n",
    "    index = loads.index(minimum)\n",
    "    loads[index] += j\n",
    "    assignment[count] = index\n",
    "    count += 1\n",
    "    \n",
    "    print(j, \":\", loads)\n",
    "    # print(str(j) + ' : ' + str(loads))\n",
    "\n",
    "print(assignment)\n",
    "print(loads)"
   ]
  },
  {
   "cell_type": "code",
   "execution_count": 47,
   "id": "04259922",
   "metadata": {},
   "outputs": [
    {
     "name": "stdout",
     "output_type": "stream",
     "text": [
      "number of jobs/projects: 10\n",
      "number of machines/team members: 3\n",
      "Processing time: 3 3 3 4 4 5 5 6 7 8\n",
      "8 :  [8, 0, 0]\n",
      "7 :  [8, 7, 0]\n",
      "6 :  [8, 7, 6]\n",
      "5 :  [8, 7, 11]\n",
      "5 :  [8, 12, 11]\n",
      "4 :  [12, 12, 11]\n",
      "4 :  [12, 12, 15]\n",
      "3 :  [15, 12, 15]\n",
      "3 :  [15, 15, 15]\n",
      "3 :  [18, 15, 15]\n",
      "[0, 1, 2, 2, 1, 0, 2, 0, 1, 0]\n",
      "[18, 15, 15]\n"
     ]
    }
   ],
   "source": [
    "# read and prepare n, m, and p\n",
    "# We do sorting\n",
    "\n",
    "n = int(input(\"number of jobs/projects: \"))\n",
    "m = int(input(\"number of machines/team members: \"))\n",
    "pStr = input(\"Processing time: \")\n",
    "\n",
    "p = pStr.split()\n",
    "for i in range(n):\n",
    "    p[i] = int(p[i])\n",
    "p.sort(reverse = True)\n",
    "\n",
    "# machine completion times\n",
    "loads = [0] * m\n",
    "assignment = [0] * n\n",
    "count = 0\n",
    "for j in p:\n",
    "    minimum = min(loads)\n",
    "    index = loads.index(minimum)\n",
    "    loads[index] += j\n",
    "    assignment[count] = index\n",
    "    count += 1\n",
    "    \n",
    "    print(j, \": \", loads)\n",
    "\n",
    "print(assignment)\n",
    "print(loads)"
   ]
  },
  {
   "cell_type": "code",
   "execution_count": 53,
   "id": "1e04a314",
   "metadata": {},
   "outputs": [
    {
     "name": "stdout",
     "output_type": "stream",
     "text": [
      "[3, 3, 5]\n"
     ]
    }
   ],
   "source": [
    "print(str([3, 3, 5]))"
   ]
  },
  {
   "cell_type": "code",
   "execution_count": null,
   "id": "9b05d028",
   "metadata": {},
   "outputs": [],
   "source": []
  }
 ],
 "metadata": {
  "kernelspec": {
   "display_name": "Python 3 (ipykernel)",
   "language": "python",
   "name": "python3"
  },
  "language_info": {
   "codemirror_mode": {
    "name": "ipython",
    "version": 3
   },
   "file_extension": ".py",
   "mimetype": "text/x-python",
   "name": "python",
   "nbconvert_exporter": "python",
   "pygments_lexer": "ipython3",
   "version": "3.9.7"
  }
 },
 "nbformat": 4,
 "nbformat_minor": 5
}
